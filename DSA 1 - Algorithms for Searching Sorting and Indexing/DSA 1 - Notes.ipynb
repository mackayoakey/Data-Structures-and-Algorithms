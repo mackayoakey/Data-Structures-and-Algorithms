{
 "cells": [
  {
   "cell_type": "markdown",
   "id": "5875a3e9-20c8-4f7b-b268-1e75f7a8aaf4",
   "metadata": {},
   "source": [
    "# Foundations of Data Structures & Algorithms: \n",
    "\n",
    "## Algorithms for Searching, Sorting, and Indexing\n",
    "\n",
    "Working through the **Foundations of Data Structures & Algorithms** specialization, course 1."
   ]
  },
  {
   "cell_type": "markdown",
   "id": "84dcc485-e320-43a1-ad52-a92f5e97b2b5",
   "metadata": {},
   "source": [
    "## Week 1"
   ]
  },
  {
   "cell_type": "markdown",
   "id": "72021217-7b76-4f71-a766-9ba3b313df2c",
   "metadata": {},
   "source": [
    "#### Basics of Algorithms Through Searching and Sorting"
   ]
  },
  {
   "cell_type": "markdown",
   "id": "d73253a3-f1fd-4a89-9d42-aadfbb4f2d66",
   "metadata": {},
   "source": [
    "**Important Prerequisites**\n",
    "\n",
    "- Sets and Functions: Properties of sets, definition and properties of functions.\n",
    "\n",
    "- Logarithms and Exponentials: and their properties.\n",
    "\n",
    "- Basic series summations: arithmetic and geometric series summations.\n",
    "\n",
    "- Probability theory: basic definition of probability, independence of events, probability distributions and expectations."
   ]
  },
  {
   "cell_type": "markdown",
   "id": "ffa62c4e-8004-4096-9b49-7e80a9ca656a",
   "metadata": {},
   "source": [
    "**Programming Background**\n",
    "\n",
    "- Basic control structures in python: conditional branches, for loops and recursion.\n",
    "\n",
    "- Functions: defining and calling functions, and recursion.\n",
    "\n",
    "- In-built data structures: Lists and Dictionaries\n",
    "\n",
    "- Classes"
   ]
  },
  {
   "cell_type": "markdown",
   "id": "3217fb09-7284-4876-9a14-077e30bbc39d",
   "metadata": {},
   "source": [
    "**Overview of Module 1**\n",
    "\n",
    "The very first module will introduce you to the technicalities of algorithms. This is in fact one of the longest modules by far in the entire specialization since there is a lot to do before we begin.\n",
    "\n",
    "- We will look into insertion sort in great detail as a motivating algorithm for sorting. \n",
    "\n",
    "- We will look at how computer scientists think about the running time of algorithms and look at asymptotic notation as a computer architecture/language/operating system independent means of evaluating algorithms.\n",
    "\n",
    "- We will define worst case complexity.\n",
    "\n",
    "- We will look at the asymptotic notation.\n",
    "\n",
    "- We will study what it means to rigorously prove correctness of an algorithm through establishing inductive invariants that hold during the execution of the algorithm.\n",
    "\n",
    "- We will study two algorithms: mergesort and binary search in this manner."
   ]
  },
  {
   "cell_type": "markdown",
   "id": "a3bc690b-193b-4225-9673-6a964d60be4a",
   "metadata": {
    "tags": []
   },
   "source": [
    "#### Quiz: Insertion Sort and Running Times"
   ]
  },
  {
   "cell_type": "code",
   "execution_count": null,
   "id": "776b6b8c-fc4b-4a62-a87e-871c48bb38c0",
   "metadata": {},
   "outputs": [],
   "source": [
    "def foo(n):\n",
    "    sum = 0 # time cost of assignment = c1\n",
    "    # assume initialization of i to 0 at the start of loop has 0 cost\n",
    "    for i in range(n): # cost for each (increment i and check if in range) = c2 \n",
    "        sum = sum + i * i # cost of addition = c3, \n",
    "        # cost of multiplication = c4 and \n",
    "        # cost of assignment = c1\n",
    "    return sum # cost of return = c5"
   ]
  },
  {
   "cell_type": "markdown",
   "id": "82aa6257-fe96-45ca-971c-5c5a154c5115",
   "metadata": {},
   "source": [
    "#### Binary Search Quiz"
   ]
  },
  {
   "cell_type": "code",
   "execution_count": 4,
   "id": "53b5b118-aff2-45c2-a0ad-bd37766a0b4c",
   "metadata": {},
   "outputs": [],
   "source": [
    "def binarySearch(a, left, right, target):\n",
    "    if right < left: \n",
    "        return False\n",
    "    mid = (left + right)//2\n",
    "    if a[mid] == target: \n",
    "        return True \n",
    "    if a[mid] > target: \n",
    "        return binarySearch(a, left, mid-1, target)\n",
    "    else: \n",
    "        # a[mid] < target\n",
    "        return binarySearch(a, mid+1, right, target)\n",
    "    #This line is never reached"
   ]
  },
  {
   "cell_type": "markdown",
   "id": "2e55737f-801e-4527-9b46-09787e65ff8d",
   "metadata": {},
   "source": [
    "#### Merge Sort"
   ]
  },
  {
   "cell_type": "raw",
   "id": "0a79b4ca-29dc-4713-a246-7319c578da6e",
   "metadata": {},
   "source": [
    "MergeSort (Pseudo code)\n",
    "\n",
    "def mergesort (array, left, right)\n",
    "    if (left >= right):\n",
    "        return\n",
    "    if (left + 1 == right):\n",
    "        if list[left] > list[right]:\n",
    "            swap(list, left, right)\n",
    "        return\n",
    "    else\n",
    "        mid = (left + right)//2\n",
    "        mergesort(array, left, mid)\n",
    "        mergesort(array, mid + 1, right)\n",
    "        merge(Array, left, mid, right)"
   ]
  },
  {
   "cell_type": "raw",
   "id": "32632076-ce5c-4608-9a14-9e8141624cc5",
   "metadata": {},
   "source": [
    "Merge Procedure (Pseudo code)\n",
    "\n",
    "def merge(array, left, mid, right):\n",
    "    i = left\n",
    "    j = mid + 1\n",
    "    tmp_store = []\n",
    "    while (i <= mid and j <= right):\n",
    "        if (array[i] < array[j]):\n",
    "            append array[i] to tmp_store\n",
    "            i = i + 1\n",
    "        else:\n",
    "            append array[j] to tmp_store\n",
    "            j = j + 1\n",
    "    if i < mid:\n",
    "        Copy remainder of first part to tmp_store\n",
    "    if j < right:\n",
    "        Copy remainder of second part to tmp_store\n",
    "    \n",
    "    Copy back from tmp_store into array[left...right]"
   ]
  }
 ],
 "metadata": {
  "kernelspec": {
   "display_name": "anaconda-panel-2023.05-py310",
   "language": "python",
   "name": "conda-env-anaconda-panel-2023.05-py310-py"
  },
  "language_info": {
   "codemirror_mode": {
    "name": "ipython",
    "version": 3
   },
   "file_extension": ".py",
   "mimetype": "text/x-python",
   "name": "python",
   "nbconvert_exporter": "python",
   "pygments_lexer": "ipython3",
   "version": "3.11.5"
  }
 },
 "nbformat": 4,
 "nbformat_minor": 5
}
